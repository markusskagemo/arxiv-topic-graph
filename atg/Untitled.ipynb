{
 "cells": [
  {
   "cell_type": "code",
   "execution_count": 2,
   "metadata": {},
   "outputs": [],
   "source": [
    "import preprocessing\n",
    "\n",
    "## Test Code\n",
    "outfp = preprocessing.extract_text(files=['testpaper.pdf'], outfile='sample.txt')\n",
    "outfp.close()"
   ]
  },
  {
   "cell_type": "code",
   "execution_count": 47,
   "metadata": {},
   "outputs": [
    {
     "data": {
      "image/png": "[encoded data removed]",
      "text/plain": [
       "<Figure size 864x504 with 1 Axes>"
      ]
     },
     "metadata": {
      "needs_background": "light"
     },
     "output_type": "display_data"
    }
   ],
   "source": [
    "import matplotlib.pyplot as plt\n",
    "\n",
    "a = open('sample.txt').read()\n",
    "\n",
    "plt.figure(figsize=(12, 7))\n",
    "plt.ylim(0, 20)\n",
    "i = 0\n",
    "for line in a.split('\\n\\n'):\n",
    "    if len(line) > 2:\n",
    "        i += 1\n",
    "        plt.bar(i, len(line.split()), color='r')\n",
    "    \"\"\"else:\n",
    "        print(line)\"\"\"\n",
    "plt.show()"
   ]
  },
  {
   "cell_type": "code",
   "execution_count": 130,
   "metadata": {},
   "outputs": [],
   "source": [
    "import requests\n",
    "import re\n",
    "\n",
    "query = 'sparse portfolio'\n",
    "url = 'http://export.arxiv.org/api/query?search_query=all:%s&start=0&max_results=2' % query\n",
    "data = requests.get(url)"
   ]
  },
  {
   "cell_type": "code",
   "execution_count": 131,
   "metadata": {},
   "outputs": [],
   "source": [
    "result = re.search('<summary>(.*)</summary>', data.text.replace('\\n', ' '))"
   ]
  },
  {
   "cell_type": "code",
   "execution_count": 132,
   "metadata": {},
   "outputs": [
    {
     "data": {
      "text/plain": [
       "('  In this short report, we discuss how coordinate-wise descent algorithms can be used to solve minimum variance portfolio (MVP) problems in which the portfolio weights are constrained by $l_{q}$ norms, where $1\\\\leq q \\\\leq 2$. A portfolio which weights are regularised by such norms is called a sparse portfolio (Brodie et al.), since these constraints facilitate sparsity (zero components) of the weight vector. We first consider a case when the portfolio weights are regularised by a weighted $l_{1}$ and squared $l_{2}$ norm. Then two benchmark data sets (Fama and French 48 industries and 100 size and BM ratio portfolios) are used to examine performances of the sparse portfolios. When the sample size is not relatively large to the number of assets, sparse portfolios tend to have lower out-of-sample portfolio variances, turnover rates, active assets, short-sale positions, but higher Sharpe ratios than the unregularised MVP. We then show some possible extensions; particularly we derive an efficient algorithm for solving an MVP problem in which assets are allowed to be chosen grouply. </summary>     <author>       <name>Yu-Min Yen</name>     </author>     <arxiv:comment xmlns:arxiv=\"http://arxiv.org/schemas/atom\">This paper has been withdrawn by the author due to a crucial sign   error in equation 1</arxiv:comment>     <link href=\"http://arxiv.org/abs/1005.5082v3\" rel=\"alternate\" type=\"text/html\"/>     <link title=\"pdf\" href=\"http://arxiv.org/pdf/1005.5082v3\" rel=\"related\" type=\"application/pdf\"/>     <arxiv:primary_category xmlns:arxiv=\"http://arxiv.org/schemas/atom\" term=\"q-fin.PM\" scheme=\"http://arxiv.org/schemas/atom\"/>     <category term=\"q-fin.PM\" scheme=\"http://arxiv.org/schemas/atom\"/>     <category term=\"q-fin.ST\" scheme=\"http://arxiv.org/schemas/atom\"/>     <category term=\"stat.AP\" scheme=\"http://arxiv.org/schemas/atom\"/>   </entry>   <entry>     <id>http://arxiv.org/abs/1706.10180v3</id>     <updated>2017-07-23T19:28:13Z</updated>     <published>2017-06-30T13:03:27Z</published>     <title>Regret-based Selection for Sparse Dynamic Portfolios</title>     <summary>  This paper considers portfolio construction in a dynamic setting. We specify a loss function comprised of utility and complexity components with an unknown tradeoff parameter. We develop a novel regret-based criterion for selecting the tradeoff parameter to construct optimal sparse portfolios over time. ',)"
      ]
     },
     "execution_count": 132,
     "metadata": {},
     "output_type": "execute_result"
    }
   ],
   "source": [
    "result.groups(1)"
   ]
  },
  {
   "cell_type": "code",
   "execution_count": null,
   "metadata": {},
   "outputs": [],
   "source": []
  }
 ],
 "metadata": {
  "kernelspec": {
   "display_name": "Python 3",
   "language": "python",
   "name": "python3"
  },
  "language_info": {
   "codemirror_mode": {
    "name": "ipython",
    "version": 3
   },
   "file_extension": ".py",
   "mimetype": "text/x-python",
   "name": "python",
   "nbconvert_exporter": "python",
   "pygments_lexer": "ipython3",
   "version": "3.6.7"
  }
 },
 "nbformat": 4,
 "nbformat_minor": 2
}
