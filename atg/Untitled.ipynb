{
 "cells": [
  {
   "cell_type": "code",
   "execution_count": 43,
   "metadata": {},
   "outputs": [],
   "source": [
    "import json\n",
    "\n",
    "def flat_unique(path='data/arxiv_metadata.json'):\n",
    "    with open(path) as f:\n",
    "        paper_meta = json.load(f)\n",
    "\n",
    "    all_papers = []\n",
    "    ids = []\n",
    "    for field, papers in paper_meta.items():\n",
    "        for paper in papers:\n",
    "            all_papers.append(paper)\n",
    "            ids.append(paper['id'])\n",
    "\n",
    "    filled_ids = {id_: False for id_ in ids}\n",
    "    all_unique_papers = []\n",
    "    for paper in all_papers:\n",
    "        if not filled_ids[paper['id']]:\n",
    "            all_unique_papers.append(paper)\n",
    "            filled_ids[paper['id']] = True\n",
    "            \n",
    "    return all_unique_papers"
   ]
  },
  {
   "cell_type": "code",
   "execution_count": 44,
   "metadata": {},
   "outputs": [],
   "source": [
    "papers = flat_unique()"
   ]
  },
  {
   "cell_type": "code",
   "execution_count": 54,
   "metadata": {},
   "outputs": [],
   "source": [
    "summaries = [paper['summary'].replace('\\n', ' ') for paper in papers]\n",
    "\n",
    "words = []\n",
    "for summary in summaries:\n",
    "    words.extend(summary.split())"
   ]
  },
  {
   "cell_type": "code",
   "execution_count": 55,
   "metadata": {},
   "outputs": [
    {
     "data": {
      "text/plain": [
       "1232176"
      ]
     },
     "execution_count": 55,
     "metadata": {},
     "output_type": "execute_result"
    }
   ],
   "source": [
    "len(words)"
   ]
  },
  {
   "cell_type": "code",
   "execution_count": null,
   "metadata": {},
   "outputs": [],
   "source": []
  }
 ],
 "metadata": {
  "kernelspec": {
   "display_name": "Python 3",
   "language": "python",
   "name": "python3"
  },
  "language_info": {
   "codemirror_mode": {
    "name": "ipython",
    "version": 3
   },
   "file_extension": ".py",
   "mimetype": "text/x-python",
   "name": "python",
   "nbconvert_exporter": "python",
   "pygments_lexer": "ipython3",
   "version": "3.6.7"
  }
 },
 "nbformat": 4,
 "nbformat_minor": 2
}
