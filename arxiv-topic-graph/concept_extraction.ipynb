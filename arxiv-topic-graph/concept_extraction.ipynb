{
 "cells": [
  {
   "cell_type": "code",
   "execution_count": 59,
   "metadata": {},
   "outputs": [
    {
     "name": "stdout",
     "output_type": "stream",
     "text": [
      "The autoreload extension is already loaded. To reload it, use:\n",
      "  %reload_ext autoreload\n"
     ]
    }
   ],
   "source": [
    "%load_ext autoreload\n",
    "%autoreload 2\n",
    "\n",
    "import os\n",
    "import preprocessing\n",
    "from gensim import corpora"
   ]
  },
  {
   "cell_type": "code",
   "execution_count": 84,
   "metadata": {},
   "outputs": [],
   "source": [
    "import os\n",
    "from gensim.models.doc2vec import TaggedDocument\n",
    "\n",
    "def texts_corpus(textdir='data/texts/'):\n",
    "    files = os.listdir(textdir)\n",
    "    corpus = []\n",
    "    source_enum = {}\n",
    "    for i, file in enumerate(files):\n",
    "        if '.txt' not in file:\n",
    "            #print('Skipping index: ' + str(i))\n",
    "            continue\n",
    "        with open(textdir + file) as f:\n",
    "            t = f.read()\n",
    "            #yield gensim.utils.simple_preprocess(t.replace('\\n', ' '))\n",
    "            corpus.append(\n",
    "                TaggedDocument(\n",
    "                    #words=[word.lower() for word in t.replace('\\n', ' ').split()],\n",
    "                    words=preprocessing.doc_preprocessor(t, lemmatize=False),\n",
    "                    tags=[file.strip('.txt')])\n",
    "                    #tags=[i])\n",
    "            )\n",
    "        source_enum[i] = file.strip('.txt')\n",
    "            \n",
    "    return corpus, source_enum\n",
    "            \n",
    "train_corpus, source_enum = texts_corpus()"
   ]
  },
  {
   "cell_type": "code",
   "execution_count": null,
   "metadata": {},
   "outputs": [],
   "source": [
    "model = gensim.models.doc2vec.Doc2Vec(vector_size=100, min_count=2, epochs=100)\n",
    "model.build_vocab(train_corpus)\n",
    "\n",
    "%time model.train(train_corpus, total_examples=model.corpus_count, epochs=model.epochs)\n",
    "model.save('data/doc2vec.model')"
   ]
  },
  {
   "cell_type": "code",
   "execution_count": 141,
   "metadata": {},
   "outputs": [],
   "source": [
    "from pprint import pprint\n",
    "\n",
    "ivec = model.infer_vector(doc_words=train_corpus[200].words)\n",
    "#pprint(model.wv.most_similar(positive=[ivec], topn=5))\n",
    "sims = model.docvecs.most_similar([ivec], topn=len(model.docvecs))"
   ]
  },
  {
   "cell_type": "code",
   "execution_count": 142,
   "metadata": {},
   "outputs": [
    {
     "name": "stdout",
     "output_type": "stream",
     "text": [
      "[('0910.4177v1', 0.986732006072998),\n",
      " ('1110.4669v1', 0.6552059650421143),\n",
      " ('1410.7316v1', 0.5830439329147339),\n",
      " ('1206.2934v2', 0.5695033073425293),\n",
      " ('1202.3217v2', 0.5552552342414856)]\n",
      "[('1901.01486v1', -0.19823354482650757),\n",
      " ('1404.3347v1', -0.15204782783985138),\n",
      " ('1711.05289v1', -0.14370861649513245),\n",
      " ('0809.4781v3', -0.14349150657653809),\n",
      " ('0912.0434v2', -0.13382673263549805)]\n"
     ]
    }
   ],
   "source": [
    "pprint(sims[:5])\n",
    "pprint(sims[:-6:-1])"
   ]
  },
  {
   "cell_type": "code",
   "execution_count": null,
   "metadata": {},
   "outputs": [],
   "source": []
  }
 ],
 "metadata": {
  "kernelspec": {
   "display_name": "Python 3",
   "language": "python",
   "name": "python3"
  },
  "language_info": {
   "codemirror_mode": {
    "name": "ipython",
    "version": 3
   },
   "file_extension": ".py",
   "mimetype": "text/x-python",
   "name": "python",
   "nbconvert_exporter": "python",
   "pygments_lexer": "ipython3",
   "version": "3.6.7"
  }
 },
 "nbformat": 4,
 "nbformat_minor": 2
}
