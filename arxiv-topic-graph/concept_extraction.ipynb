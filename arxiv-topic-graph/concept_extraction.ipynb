{
 "cells": [
  {
   "cell_type": "code",
   "execution_count": 9,
   "metadata": {},
   "outputs": [],
   "source": [
    "import os\n",
    "import preprocessing\n",
    "\n",
    "from gensim import corpora"
   ]
  },
  {
   "cell_type": "code",
   "execution_count": 13,
   "metadata": {},
   "outputs": [
    {
     "data": {
      "text/plain": [
       "'Time series forecasting is a crucial component of many important applications, ranging from forecasting the stock markets to energy load prediction. The high-dimensionality, velocity and variety of th'"
      ]
     },
     "execution_count": 13,
     "metadata": {},
     "output_type": "execute_result"
    }
   ],
   "source": [
    "#texts = preprocessing.corpus_tokens()\n",
    "#dictionary = corpora.Dictionary(texts)\n",
    "flat_metadata = preprocessing.flat_unique()\n",
    "summaries = [paper['summary'].replace('\\n', ' ') for paper in flat_metadata]\n",
    "\n",
    "# Sample\n",
    "summaries[0][:200]"
   ]
  },
  {
   "cell_type": "code",
   "execution_count": 35,
   "metadata": {},
   "outputs": [],
   "source": [
    "import spacy\n",
    "from spacy.lang.en.examples import sentences\n",
    "\n",
    "nlp = spacy.load('en_core_web_md')"
   ]
  },
  {
   "cell_type": "code",
   "execution_count": 41,
   "metadata": {},
   "outputs": [
    {
     "name": "stdout",
     "output_type": "stream",
     "text": [
      "Temporal Logistic Neural ORG\n",
      "BoF ORG\n",
      "BoF GPE\n",
      "BoF GPE\n",
      "more than 4 million CARDINAL\n",
      "Gaussian ORG\n",
      "Davis PERSON\n",
      "1984 DATE\n",
      "one CARDINAL\n",
      "Monte Carlo ORG\n",
      "Monte Carlo ORG\n",
      "PDMP ORG\n",
      "Monte Carlo ORG\n"
     ]
    }
   ],
   "source": [
    "for i in range(len(summaries)):\n",
    "    doc = nlp(summaries[i])\n",
    "    for entity in doc.ents:\n",
    "        print(entity.text, entity.label_)\n",
    "        \n",
    "    if i > 1:\n",
    "        break"
   ]
  },
  {
   "cell_type": "code",
   "execution_count": null,
   "metadata": {},
   "outputs": [],
   "source": [
    "sim = []\n",
    "for i in range(1, len(summaries)):\n",
    "    # Determine semantic similarities\n",
    "    doc1 = nlp(summaries[i-1])\n",
    "    doc2 = nlp(summaries[i])\n",
    "    similarity = doc1.similarity(doc2)\n",
    "    #print(doc1.text[:50], doc2.text[:50], similarity)\n",
    "    sim.append(similarity)"
   ]
  },
  {
   "cell_type": "code",
   "execution_count": null,
   "metadata": {},
   "outputs": [],
   "source": [
    "import matplotlib.pyplot as plt\n",
    "\n",
    "plt.figure(figsize=(12, 5))\n",
    "plt.plot(sim)\n",
    "plt.show()"
   ]
  }
 ],
 "metadata": {
  "kernelspec": {
   "display_name": "Python 3",
   "language": "python",
   "name": "python3"
  },
  "language_info": {
   "codemirror_mode": {
    "name": "ipython",
    "version": 3
   },
   "file_extension": ".py",
   "mimetype": "text/x-python",
   "name": "python",
   "nbconvert_exporter": "python",
   "pygments_lexer": "ipython3",
   "version": "3.6.7"
  }
 },
 "nbformat": 4,
 "nbformat_minor": 2
}
